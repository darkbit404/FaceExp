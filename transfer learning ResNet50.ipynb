{
 "cells": [
  {
   "cell_type": "code",
   "execution_count": 1,
   "metadata": {},
   "outputs": [],
   "source": [
    "import os\n",
    "from PIL import Image\n",
    "import tensorflow as tf\n",
    "from tensorflow.keras.models import Sequential\n",
    "from tensorflow.keras.layers import Conv2D, MaxPooling2D, Flatten, Dense, Dropout\n",
    "from tensorflow.keras.preprocessing.image import ImageDataGenerator\n",
    "import matplotlib.pyplot as plt"
   ]
  },
  {
   "cell_type": "code",
   "execution_count": 2,
   "metadata": {},
   "outputs": [],
   "source": [
    "# Set dataset paths\n",
    "train_dir = r'C:\\Users\\Dell\\Documents\\Projects\\FaceExp\\data\\train'\n",
    "test_dir = r'C:\\Users\\Dell\\Documents\\Projects\\FaceExp\\data\\test'"
   ]
  },
  {
   "cell_type": "code",
   "execution_count": 3,
   "metadata": {},
   "outputs": [],
   "source": [
    "# Get image sizes\n",
    "def get_image_sizes(directory):\n",
    "    size_dict = {}\n",
    "    \n",
    "    for class_name in os.listdir(directory):\n",
    "        class_path = os.path.join(directory, class_name)\n",
    "        if not os.path.isdir(class_path):\n",
    "            continue\n",
    "        \n",
    "        sizes = []\n",
    "        for img_name in os.listdir(class_path):\n",
    "            img_path = os.path.join(class_path, img_name)\n",
    "            try:\n",
    "                with Image.open(img_path) as img:\n",
    "                    sizes.append(img.size)  # (width, height)\n",
    "            except Exception as e:\n",
    "                print(f\"Error reading {img_path}: {e}\")\n",
    "        \n",
    "        size_dict[class_name] = sizes\n",
    "    \n",
    "    return size_dict"
   ]
  },
  {
   "cell_type": "code",
   "execution_count": 4,
   "metadata": {},
   "outputs": [],
   "source": [
    "# Print the image sizes\n",
    "def print_image_sizes(directory):\n",
    "    sizes = get_image_sizes(directory)\n",
    "    print(f\"Image sizes in {directory}:\")\n",
    "    for class_name, size_list in sizes.items():\n",
    "        if size_list:\n",
    "            unique_sizes = set(size_list)\n",
    "            print(f\"  {class_name}: {len(size_list)} images, Unique sizes: {unique_sizes}\")\n",
    "        else:\n",
    "            print(f\"  {class_name}: No images found\")"
   ]
  },
  {
   "cell_type": "code",
   "execution_count": 5,
   "metadata": {},
   "outputs": [
    {
     "name": "stdout",
     "output_type": "stream",
     "text": [
      "Image sizes in C:\\Users\\Dell\\Documents\\Projects\\FaceExp\\data\\train:\n",
      "  angry: 3995 images, Unique sizes: {(224, 224)}\n",
      "  disgust: 436 images, Unique sizes: {(224, 224)}\n",
      "  fear: 4097 images, Unique sizes: {(224, 224)}\n",
      "  happy: 7215 images, Unique sizes: {(224, 224)}\n",
      "  neutral: 4965 images, Unique sizes: {(224, 224)}\n",
      "  sad: 4830 images, Unique sizes: {(224, 224)}\n",
      "  surprise: 3171 images, Unique sizes: {(224, 224)}\n",
      "Image sizes in C:\\Users\\Dell\\Documents\\Projects\\FaceExp\\data\\test:\n",
      "  angry: 958 images, Unique sizes: {(224, 224)}\n",
      "  disgust: 111 images, Unique sizes: {(224, 224)}\n",
      "  fear: 1024 images, Unique sizes: {(224, 224)}\n",
      "  happy: 1774 images, Unique sizes: {(224, 224)}\n",
      "  neutral: 1233 images, Unique sizes: {(224, 224)}\n",
      "  sad: 1247 images, Unique sizes: {(224, 224)}\n",
      "  surprise: 831 images, Unique sizes: {(224, 224)}\n"
     ]
    }
   ],
   "source": [
    "print_image_sizes(train_dir)\n",
    "print_image_sizes(test_dir)"
   ]
  },
  {
   "cell_type": "code",
   "execution_count": 8,
   "metadata": {},
   "outputs": [],
   "source": [
    "#Resize the images according to ResNet50\n",
    "def resize_images(directory, size=224):\n",
    "    for class_name in os.listdir(directory):\n",
    "        class_path = os.path.join(directory, class_name)\n",
    "        if not os.path.isdir(class_path):\n",
    "            continue\n",
    "        \n",
    "        for img_name in os.listdir(class_path):\n",
    "            img_path = os.path.join(class_path, img_name)\n",
    "            try:\n",
    "                with Image.open(img_path) as img:\n",
    "                    img = img.resize((size, size), Image.LANCZOS)\n",
    "                    img.save(img_path)\n",
    "            except Exception as e:\n",
    "                print(f\"Error resizing {img_path}: {e}\")"
   ]
  },
  {
   "cell_type": "code",
   "execution_count": 9,
   "metadata": {},
   "outputs": [],
   "source": [
    "resize_images(train_dir)\n",
    "resize_images(test_dir)"
   ]
  },
  {
   "cell_type": "code",
   "execution_count": null,
   "metadata": {},
   "outputs": [],
   "source": []
  }
 ],
 "metadata": {
  "kernelspec": {
   "display_name": "Python 3",
   "language": "python",
   "name": "python3"
  },
  "language_info": {
   "codemirror_mode": {
    "name": "ipython",
    "version": 3
   },
   "file_extension": ".py",
   "mimetype": "text/x-python",
   "name": "python",
   "nbconvert_exporter": "python",
   "pygments_lexer": "ipython3",
   "version": "3.11.9"
  }
 },
 "nbformat": 4,
 "nbformat_minor": 2
}
